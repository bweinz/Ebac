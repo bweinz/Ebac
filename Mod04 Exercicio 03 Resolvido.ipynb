{
 "cells": [
  {
   "cell_type": "markdown",
   "metadata": {},
   "source": [
    "# Tarefa 03\n",
    "\n",
    "- Leia os enunciados com atenção\n",
    "- Saiba que pode haver mais de uma resposta correta\n",
    "- Insira novas células de código sempre que achar necessário\n",
    "- Em caso de dúvidas, procure os Tutores\n",
    "- Divirta-se :)"
   ]
  },
  {
   "cell_type": "code",
   "execution_count": 1,
   "metadata": {},
   "outputs": [],
   "source": [
    "import pandas as pd\n",
    "import requests"
   ]
  },
  {
   "cell_type": "markdown",
   "metadata": {},
   "source": [
    "####  1) Lendo de APIs\n",
    "Vimos em aula como carregar dados públicos do governo através de um API (*Application Programming Interface*). No exemplo de aula, baixamos os dados de pedidos de verificação de limites (PVL) realizados por estados, e selecionamos apenas aqueles referentes ao estado de São Paulo.\n",
    "\n",
    "1. Repita os mesmos passos feitos em aula, mas selecione os PVLs realizados por municípios no estado do Rio de Janeiro.\n",
    "2. Quais são os três *status* das solicitações mais frequentes na base? Quais são suas frequências?\n",
    "3. Construa uma nova variável que contenha o ano do **status**. Observe que ```data_status``` vem como tipo *object* no **DataFrame**. Dica: você pode usar o método ```.str``` para transformar o tipo da variável em string, em seguida um método como [**slice()**](https://pandas.pydata.org/docs/reference/api/pandas.Series.str.slice.html) ou [**split()**](https://pandas.pydata.org/pandas-docs/stable/reference/api/pandas.Series.str.split.html).\n",
    "4. Indique a frequência de cada ano do campo construído no item (3)."
   ]
  },
  {
   "cell_type": "code",
   "execution_count": 17,
   "metadata": {},
   "outputs": [],
   "source": [
    "url = 'https://apidatalake.tesouro.gov.br/ords/sadipem/tt/pvl?uf=RJ&tipo_interessado=Estado'\n",
    "response = requests.get(url)\n",
    "data = response.json()"
   ]
  },
  {
   "cell_type": "code",
   "execution_count": 18,
   "metadata": {
    "scrolled": true
   },
   "outputs": [
    {
     "name": "stdout",
     "output_type": "stream",
     "text": [
      "Os status mais frequentes são: \n",
      "1º lugar: Encaminhado à PGFN com manifestação técnica favorável com 34\n",
      "2º Lugar Deferido com 14 \n",
      "3º lugar Arquivado a pedido com 3\n"
     ]
    }
   ],
   "source": [
    "df = pd.DataFrame(data['items'])\n",
    "\n",
    "frequencia_status = df['status'].value_counts()\n",
    "primeiraFrequencia = frequencia_status.index[0]\n",
    "segundaFrequencia = frequencia_status.index[1]\n",
    "terceiraFrequencia = frequencia_status.index[2]\n",
    "\n",
    "print(f'Os status mais frequentes são: \\n1º lugar: {primeiraFrequencia} com {frequencia_status[0]}\\n2º Lugar {segundaFrequencia} com {frequencia_status[1]} \\n3º lugar {terceiraFrequencia} com {frequencia_status[2]}')\n"
   ]
  },
  {
   "cell_type": "code",
   "execution_count": 11,
   "metadata": {},
   "outputs": [
    {
     "data": {
      "text/plain": [
       "0     2013\n",
       "1     2011\n",
       "2     2009\n",
       "3     2010\n",
       "4     2011\n",
       "5     2011\n",
       "6     2016\n",
       "7     2012\n",
       "8     2009\n",
       "9     2012\n",
       "10    2009\n",
       "11    2006\n",
       "12    2002\n",
       "13    2014\n",
       "14    2010\n",
       "15    2016\n",
       "16    2008\n",
       "17    2016\n",
       "18    2009\n",
       "19    2009\n",
       "20    2002\n",
       "21    2012\n",
       "22    2011\n",
       "23    2011\n",
       "24    2009\n",
       "25    2012\n",
       "26    2016\n",
       "27    2011\n",
       "28    2006\n",
       "29    2009\n",
       "30    2012\n",
       "31    2012\n",
       "32    2012\n",
       "33    2009\n",
       "34    2014\n",
       "35    2013\n",
       "36    2012\n",
       "37    2002\n",
       "38    2013\n",
       "39    2010\n",
       "40    2008\n",
       "41    2012\n",
       "42    2009\n",
       "43    2013\n",
       "44    2014\n",
       "45    2014\n",
       "46    2012\n",
       "47    2012\n",
       "48    2002\n",
       "49    2013\n",
       "50    2013\n",
       "51    2013\n",
       "Name: data_status, dtype: object"
      ]
     },
     "execution_count": 11,
     "metadata": {},
     "output_type": "execute_result"
    }
   ],
   "source": [
    "anoStatus = df['data_status'].str[-4:]\n",
    "anoStatus"
   ]
  },
  {
   "cell_type": "code",
   "execution_count": 5,
   "metadata": {},
   "outputs": [
    {
     "data": {
      "text/plain": [
       "2012    11\n",
       "2009     9\n",
       "2013     7\n",
       "2011     6\n",
       "2016     4\n",
       "2002     4\n",
       "2014     4\n",
       "2010     3\n",
       "2006     2\n",
       "2008     2\n",
       "Name: data_status, dtype: int64"
      ]
     },
     "execution_count": 5,
     "metadata": {},
     "output_type": "execute_result"
    }
   ],
   "source": [
    "frequencia_anos = anoStatus.value_counts()\n",
    "frequencia_anos"
   ]
  },
  {
   "cell_type": "markdown",
   "metadata": {},
   "source": [
    "####  2) Melhorando a interação com o API\n",
    "Observe dois URLs de consultas diferentes, por exemplo o URL utilizado em aula, e o URL feito no exercício anterior. Compare-os e observe as diferenças.\n",
    "\n",
    "1. Faça uma função em Python que recebe como argumento o UF da consulta e o tipo de interessado (```'Estado'```ou ```Município```), e que devolve os dados da consulta no formato *DataFrame*.\n",
    "2. Quantas solicitações para o Estado podem ser consultadas para Minas Gerais com *status* em 'Arquivado por decurso de prazo' estão registradas?\n",
    "3. Qual é o município da Bahia com mais solicitações deferidas?\n",
    "4. Salve um arquivo .csv com os dados de solicitações da Bahia, com interessado = 'Estado'"
   ]
  },
  {
   "cell_type": "code",
   "execution_count": 48,
   "metadata": {},
   "outputs": [
    {
     "ename": "NoSuchWindowException",
     "evalue": "Message: no such window: target window already closed\nfrom unknown error: web view not found\n  (Session info: chrome=118.0.5993.89)\nStacktrace:\n\tGetHandleVerifier [0x00007FF76B638EF2+54786]\n\t(No symbol) [0x00007FF76B5A5612]\n\t(No symbol) [0x00007FF76B45A64B]\n\t(No symbol) [0x00007FF76B43A9F5]\n\t(No symbol) [0x00007FF76B4C0887]\n\t(No symbol) [0x00007FF76B4D43CF]\n\t(No symbol) [0x00007FF76B4BBC43]\n\t(No symbol) [0x00007FF76B490941]\n\t(No symbol) [0x00007FF76B491B84]\n\tGetHandleVerifier [0x00007FF76B987F52+3524194]\n\tGetHandleVerifier [0x00007FF76B9DD800+3874576]\n\tGetHandleVerifier [0x00007FF76B9D5D7F+3843215]\n\tGetHandleVerifier [0x00007FF76B6D5086+694166]\n\t(No symbol) [0x00007FF76B5B0A88]\n\t(No symbol) [0x00007FF76B5ACA94]\n\t(No symbol) [0x00007FF76B5ACBC2]\n\t(No symbol) [0x00007FF76B59CC83]\n\tBaseThreadInitThunk [0x00007FFA5E9F7344+20]\n\tRtlUserThreadStart [0x00007FFA5FDA26B1+33]\n",
     "output_type": "error",
     "traceback": [
      "\u001b[1;31m---------------------------------------------------------------------------\u001b[0m",
      "\u001b[1;31mNoSuchWindowException\u001b[0m                     Traceback (most recent call last)",
      "Cell \u001b[1;32mIn[48], line 50\u001b[0m\n\u001b[0;32m     48\u001b[0m uf \u001b[38;5;241m=\u001b[39m \u001b[38;5;124m'\u001b[39m\u001b[38;5;124mMG\u001b[39m\u001b[38;5;124m'\u001b[39m\n\u001b[0;32m     49\u001b[0m tipo \u001b[38;5;241m=\u001b[39m \u001b[38;5;124m'\u001b[39m\u001b[38;5;124mEstado\u001b[39m\u001b[38;5;124m'\u001b[39m\n\u001b[1;32m---> 50\u001b[0m df \u001b[38;5;241m=\u001b[39m consultar_dados_uf_tipo(uf, tipo)\n\u001b[0;32m     51\u001b[0m \u001b[38;5;28mprint\u001b[39m(df)\n",
      "Cell \u001b[1;32mIn[48], line 19\u001b[0m, in \u001b[0;36mconsultar_dados_uf_tipo\u001b[1;34m(uf, tipo)\u001b[0m\n\u001b[0;32m     16\u001b[0m driver\u001b[38;5;241m.\u001b[39mget(\u001b[38;5;124m'\u001b[39m\u001b[38;5;124mhttps://apidatalake.tesouro.gov.br/ords/sadipem/tt/pvl\u001b[39m\u001b[38;5;124m'\u001b[39m)\n\u001b[0;32m     18\u001b[0m \u001b[38;5;66;03m# Selecionar UF\u001b[39;00m\n\u001b[1;32m---> 19\u001b[0m uf_select \u001b[38;5;241m=\u001b[39m driver\u001b[38;5;241m.\u001b[39mfind_element(By\u001b[38;5;241m.\u001b[39mXPATH, \u001b[38;5;124m\"\u001b[39m\u001b[38;5;124m//select[@name=\u001b[39m\u001b[38;5;124m'\u001b[39m\u001b[38;5;124muf\u001b[39m\u001b[38;5;124m'\u001b[39m\u001b[38;5;124m]\u001b[39m\u001b[38;5;124m\"\u001b[39m)\n\u001b[0;32m     20\u001b[0m uf_select\u001b[38;5;241m.\u001b[39mclick()\n\u001b[0;32m     21\u001b[0m uf_option \u001b[38;5;241m=\u001b[39m uf_select\u001b[38;5;241m.\u001b[39mfind_element(By\u001b[38;5;241m.\u001b[39mXPATH, \u001b[38;5;124mf\u001b[39m\u001b[38;5;124m\"\u001b[39m\u001b[38;5;124m//option[text()=\u001b[39m\u001b[38;5;124m'\u001b[39m\u001b[38;5;132;01m{\u001b[39;00muf\u001b[38;5;132;01m}\u001b[39;00m\u001b[38;5;124m'\u001b[39m\u001b[38;5;124m]\u001b[39m\u001b[38;5;124m\"\u001b[39m)\n",
      "File \u001b[1;32m~\\anaconda3\\Lib\\site-packages\\selenium\\webdriver\\remote\\webdriver.py:738\u001b[0m, in \u001b[0;36mWebDriver.find_element\u001b[1;34m(self, by, value)\u001b[0m\n\u001b[0;32m    735\u001b[0m     by \u001b[38;5;241m=\u001b[39m By\u001b[38;5;241m.\u001b[39mCSS_SELECTOR\n\u001b[0;32m    736\u001b[0m     value \u001b[38;5;241m=\u001b[39m \u001b[38;5;124mf\u001b[39m\u001b[38;5;124m'\u001b[39m\u001b[38;5;124m[name=\u001b[39m\u001b[38;5;124m\"\u001b[39m\u001b[38;5;132;01m{\u001b[39;00mvalue\u001b[38;5;132;01m}\u001b[39;00m\u001b[38;5;124m\"\u001b[39m\u001b[38;5;124m]\u001b[39m\u001b[38;5;124m'\u001b[39m\n\u001b[1;32m--> 738\u001b[0m \u001b[38;5;28;01mreturn\u001b[39;00m \u001b[38;5;28mself\u001b[39m\u001b[38;5;241m.\u001b[39mexecute(Command\u001b[38;5;241m.\u001b[39mFIND_ELEMENT, {\u001b[38;5;124m\"\u001b[39m\u001b[38;5;124musing\u001b[39m\u001b[38;5;124m\"\u001b[39m: by, \u001b[38;5;124m\"\u001b[39m\u001b[38;5;124mvalue\u001b[39m\u001b[38;5;124m\"\u001b[39m: value})[\u001b[38;5;124m\"\u001b[39m\u001b[38;5;124mvalue\u001b[39m\u001b[38;5;124m\"\u001b[39m]\n",
      "File \u001b[1;32m~\\anaconda3\\Lib\\site-packages\\selenium\\webdriver\\remote\\webdriver.py:344\u001b[0m, in \u001b[0;36mWebDriver.execute\u001b[1;34m(self, driver_command, params)\u001b[0m\n\u001b[0;32m    342\u001b[0m response \u001b[38;5;241m=\u001b[39m \u001b[38;5;28mself\u001b[39m\u001b[38;5;241m.\u001b[39mcommand_executor\u001b[38;5;241m.\u001b[39mexecute(driver_command, params)\n\u001b[0;32m    343\u001b[0m \u001b[38;5;28;01mif\u001b[39;00m response:\n\u001b[1;32m--> 344\u001b[0m     \u001b[38;5;28mself\u001b[39m\u001b[38;5;241m.\u001b[39merror_handler\u001b[38;5;241m.\u001b[39mcheck_response(response)\n\u001b[0;32m    345\u001b[0m     response[\u001b[38;5;124m\"\u001b[39m\u001b[38;5;124mvalue\u001b[39m\u001b[38;5;124m\"\u001b[39m] \u001b[38;5;241m=\u001b[39m \u001b[38;5;28mself\u001b[39m\u001b[38;5;241m.\u001b[39m_unwrap_value(response\u001b[38;5;241m.\u001b[39mget(\u001b[38;5;124m\"\u001b[39m\u001b[38;5;124mvalue\u001b[39m\u001b[38;5;124m\"\u001b[39m, \u001b[38;5;28;01mNone\u001b[39;00m))\n\u001b[0;32m    346\u001b[0m     \u001b[38;5;28;01mreturn\u001b[39;00m response\n",
      "File \u001b[1;32m~\\anaconda3\\Lib\\site-packages\\selenium\\webdriver\\remote\\errorhandler.py:229\u001b[0m, in \u001b[0;36mErrorHandler.check_response\u001b[1;34m(self, response)\u001b[0m\n\u001b[0;32m    227\u001b[0m         alert_text \u001b[38;5;241m=\u001b[39m value[\u001b[38;5;124m\"\u001b[39m\u001b[38;5;124malert\u001b[39m\u001b[38;5;124m\"\u001b[39m]\u001b[38;5;241m.\u001b[39mget(\u001b[38;5;124m\"\u001b[39m\u001b[38;5;124mtext\u001b[39m\u001b[38;5;124m\"\u001b[39m)\n\u001b[0;32m    228\u001b[0m     \u001b[38;5;28;01mraise\u001b[39;00m exception_class(message, screen, stacktrace, alert_text)  \u001b[38;5;66;03m# type: ignore[call-arg]  # mypy is not smart enough here\u001b[39;00m\n\u001b[1;32m--> 229\u001b[0m \u001b[38;5;28;01mraise\u001b[39;00m exception_class(message, screen, stacktrace)\n",
      "\u001b[1;31mNoSuchWindowException\u001b[0m: Message: no such window: target window already closed\nfrom unknown error: web view not found\n  (Session info: chrome=118.0.5993.89)\nStacktrace:\n\tGetHandleVerifier [0x00007FF76B638EF2+54786]\n\t(No symbol) [0x00007FF76B5A5612]\n\t(No symbol) [0x00007FF76B45A64B]\n\t(No symbol) [0x00007FF76B43A9F5]\n\t(No symbol) [0x00007FF76B4C0887]\n\t(No symbol) [0x00007FF76B4D43CF]\n\t(No symbol) [0x00007FF76B4BBC43]\n\t(No symbol) [0x00007FF76B490941]\n\t(No symbol) [0x00007FF76B491B84]\n\tGetHandleVerifier [0x00007FF76B987F52+3524194]\n\tGetHandleVerifier [0x00007FF76B9DD800+3874576]\n\tGetHandleVerifier [0x00007FF76B9D5D7F+3843215]\n\tGetHandleVerifier [0x00007FF76B6D5086+694166]\n\t(No symbol) [0x00007FF76B5B0A88]\n\t(No symbol) [0x00007FF76B5ACA94]\n\t(No symbol) [0x00007FF76B5ACBC2]\n\t(No symbol) [0x00007FF76B59CC83]\n\tBaseThreadInitThunk [0x00007FFA5E9F7344+20]\n\tRtlUserThreadStart [0x00007FFA5FDA26B1+33]\n"
     ]
    }
   ],
   "source": [
    "#1) Seu código aqui \n",
    "#Faça uma função em Python que recebe como argumento o UF da consulta e o tipo de interessado\n",
    "# ('Estado'ou Município), e que devolve os dados da consulta no formato DataFrame.\n",
    "from selenium import webdriver\n",
    "from selenium.webdriver.common.by import By\n",
    "import pandas as pd\n",
    "\n",
    "def consultar_dados_uf_tipo(uf, tipo):\n",
    "    if tipo not in ['Estado', 'Município']:\n",
    "        raise ValueError(\"O tipo de interessado deve ser 'Estado' ou 'Município'\")\n",
    "\n",
    "    # Configurar o driver do Selenium (certifique-se de ter o ChromeDriver instalado)\n",
    "    driver = webdriver.Chrome()\n",
    "\n",
    "    # Abrir a página da API\n",
    "    driver.get('https://apidatalake.tesouro.gov.br/ords/sadipem/tt/pvl')\n",
    "\n",
    "    # Selecionar UF\n",
    "    uf_select = driver.find_element(By.XPATH, \"//select[@name='uf']\")\n",
    "    uf_select.click()\n",
    "    uf_option = uf_select.find_element(By.XPATH, f\"//option[text()='{uf}']\")\n",
    "    uf_option.click()\n",
    "\n",
    "    # Selecionar Tipo de Interessado\n",
    "    tipo_select = driver.find_element(By.XPATH, \"//select[@name='tipo_interessado']\")\n",
    "    tipo_select.click()\n",
    "    tipo_option = tipo_select.find_element(By.XPATH, f\"//option[text()='{tipo}']\")\n",
    "    tipo_option.click()\n",
    "\n",
    "    # Enviar o formulário\n",
    "    submit_button = driver.find_element(By.XPATH, \"//input[@type='submit']\")\n",
    "    submit_button.click()\n",
    "\n",
    "    # Extrair dados da página\n",
    "    data = []\n",
    "    for row in driver.find_elements(By.XPATH, \"//table[@id='results']//tr\"):\n",
    "        data.append([cell.text for cell in row.find_elements(By.TAG_NAME, \"td\")])\n",
    "\n",
    "    # Fechar o navegador\n",
    "    driver.quit()\n",
    "\n",
    "    if len(data) > 1:\n",
    "        return pd.DataFrame(data[1:], columns=data[0])\n",
    "    else:\n",
    "        raise ValueError(\"Não foram encontrados dados para a consulta.\")\n",
    "\n",
    "# Exemplo de uso da função:\n",
    "uf = 'MG'\n",
    "tipo = 'Estado'\n",
    "df = consultar_dados_uf_tipo(uf, tipo)\n",
    "print(df)\n"
   ]
  },
  {
   "cell_type": "code",
   "execution_count": 54,
   "metadata": {},
   "outputs": [
    {
     "data": {
      "text/plain": [
       "Arquivado por decurso de prazo    1\n",
       "Name: status, dtype: int64"
      ]
     },
     "execution_count": 54,
     "metadata": {},
     "output_type": "execute_result"
    }
   ],
   "source": [
    "#Quantas solicitações para o Estado podem ser consultadas para Minas Gerais com status em \n",
    "#'Arquivado por decurso de prazo' estão registradas?\n",
    "\n",
    "\n",
    "url2 = 'https://apidatalake.tesouro.gov.br/ords/sadipem/tt/pvl?uf=MG&tipo_interessado=Estado'\n",
    "r = requests.get(url2)\n",
    "data = r.json()\n",
    "pd.DataFrame(data['items'])\n",
    "\n",
    "data = {'status': ['Arquivado por decurso de prazo']}\n",
    "df = pd.DataFrame(data)\n",
    "contagem = df['status'].value_counts()\n",
    "contagem"
   ]
  },
  {
   "cell_type": "code",
   "execution_count": 81,
   "metadata": {},
   "outputs": [
    {
     "name": "stdout",
     "output_type": "stream",
     "text": [
      "O município com mais status deferidos é Luís Eduardo Magalhães com um total de 16 deferimentos.\n"
     ]
    }
   ],
   "source": [
    "# 3) Seu código aqui\n",
    "# Qual é o município da Bahia com mais solicitações deferidas?\n",
    "\n",
    "url3 = 'https://apidatalake.tesouro.gov.br/ords/sadipem/tt/pvl?uf=BA&tipo_interessado=Munic%C3%ADpio'\n",
    "r2 = requests.get(url3)\n",
    "data2 = r2.json()\n",
    "df2 = pd.DataFrame(data2['items'])\n",
    "\n",
    "contagem_status = df2['status'].value_counts()\n",
    "deferido_df = df2[df2['status'] == 'Deferido']\n",
    "contagem_municipio_deferido = deferido_df['interessado'].value_counts()\n",
    "municipio_mais_deferido = contagem_municipio_deferido.idxmax()\n",
    "quantidade_mais_deferido = contagem_municipio_deferido.max()\n",
    "print(f\"O município com mais status deferidos é {municipio_mais_deferido} com um total de {quantidade_mais_deferido} deferimentos.\")"
   ]
  },
  {
   "cell_type": "code",
   "execution_count": 82,
   "metadata": {},
   "outputs": [],
   "source": [
    "# 4) Seu código aqui \n",
    "#Salve um arquivo .csv com os dados de solicitações da Bahia, com interessado = 'Estado'\n",
    "solicitacoes_estado_bahia = df2[df2['interessado'] == 'Estado']\n",
    "solicitacoes_estado_bahia.to_csv('solicitacoes_estado_bahia.csv', index=False)"
   ]
  },
  {
   "cell_type": "code",
   "execution_count": null,
   "metadata": {},
   "outputs": [],
   "source": []
  }
 ],
 "metadata": {
  "kernelspec": {
   "display_name": "Python 3 (ipykernel)",
   "language": "python",
   "name": "python3"
  },
  "language_info": {
   "codemirror_mode": {
    "name": "ipython",
    "version": 3
   },
   "file_extension": ".py",
   "mimetype": "text/x-python",
   "name": "python",
   "nbconvert_exporter": "python",
   "pygments_lexer": "ipython3",
   "version": "3.11.3"
  }
 },
 "nbformat": 4,
 "nbformat_minor": 4
}
