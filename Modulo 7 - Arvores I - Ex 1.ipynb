{
 "cells": [
  {
   "cell_type": "markdown",
   "metadata": {},
   "source": [
    "# Módulo 07, Tarefa 01\n",
    "\n",
    "Vamos começar a mexer na nossa base de projeto? Já fizemos um exercício de montar a variável resposta, já pudemos perceber que essa atividade pode não ser trivial. Vamos agora trabalhar a base para que fique propícia ao *scikitlearn* para trabalharmos.\n",
    "\n",
    "Lembrando, a base se chama demo01.csv, e originalmente está publicada [aqui](https://www.kaggle.com/rikdifos/credit-card-approval-prediction)."
   ]
  },
  {
   "cell_type": "markdown",
   "metadata": {},
   "source": [
    "#### 1) Carregue a base e avalie:\n",
    "\n",
    "- As variáveis\n",
    "- Tipos de dados de cada variável\n",
    "- Quantidade de missings\n",
    "- Distribuição da variável resposta (mau)"
   ]
  },
  {
   "cell_type": "code",
   "execution_count": 6,
   "metadata": {},
   "outputs": [
    {
     "data": {
      "image/png": "[encoded data removed]",
      "text/plain": [
       "<Figure size 800x600 with 1 Axes>"
      ]
     },
     "metadata": {},
     "output_type": "display_data"
    }
   ],
   "source": [
    "import numpy as np\n",
    "import pandas as pd\n",
    "import seaborn as sns\n",
    "import matplotlib.pyplot as plt\n",
    "\n",
    "df = pd.read_csv('base.csv')\n",
    "df.columns\n",
    "\n",
    "sns.set(style=\"whitegrid\")\n",
    "plt.figure(figsize=(8,6))\n",
    "sns.countplot(x='mau', data=df, palette='Set2')\n",
    "\n",
    "plt.show()"
   ]
  },
  {
   "cell_type": "markdown",
   "metadata": {},
   "source": [
    "#### 2) Vamos montar um metadados\n",
    "\n",
    "1. Crie um dataframe com os nomes de cada variável e o tipo de dados de cada variável.\n",
    "2. Adicione uma coluna nesse *dataframe* chamada \"qtd_categorias\" e coloque nela o número de categorias correspondente de cada variável. \n",
    "    Dica: \n",
    "        1. inicie uma lista vazia\n",
    "        2. faça um for ao longo dos nomes das variáveis, \n",
    "        3. conte o número de categorias dessa variável \n",
    "        4. acumule essa informação de 3. na lista que você criou em 1. \n",
    "        5. No final, essa lista pode ser atribuída à nossa variável.\n",
    "3. Crie variáveis dummy para as variáveis necessárias (i.e. aquelas que são qualitativas e não estão armazenadas como {0, 1} ou {True, False}."
   ]
  },
  {
   "cell_type": "code",
   "execution_count": 16,
   "metadata": {},
   "outputs": [
    {
     "name": "stdout",
     "output_type": "stream",
     "text": [
      "                                    Variavel Tipo de Dados  qtd_categorias\n",
      "sexo                                    sexo        object               2\n",
      "posse_de_veiculo            posse_de_veiculo        object               2\n",
      "posse_de_imovel              posse_de_imovel        object               2\n",
      "qtd_filhos                        qtd_filhos         int64               8\n",
      "tipo_renda                        tipo_renda        object               5\n",
      "educacao                            educacao        object               5\n",
      "estado_civil                    estado_civil        object               5\n",
      "tipo_residencia              tipo_residencia        object               6\n",
      "idade                                  idade       float64            5298\n",
      "tempo_emprego                  tempo_emprego       float64            3005\n",
      "possui_celular                possui_celular         int64               1\n",
      "possui_fone_comercial  possui_fone_comercial         int64               2\n",
      "possui_fone                      possui_fone         int64               2\n",
      "possui_email                    possui_email         int64               2\n",
      "qt_pessoas_residencia  qt_pessoas_residencia       float64               9\n",
      "mau                                      mau          bool               2\n",
      "   qtd_filhos      idade  tempo_emprego  possui_celular  \\\n",
      "0           0  58.832877       3.106849               1   \n",
      "1           0  52.356164       8.358904               1   \n",
      "2           0  52.356164       8.358904               1   \n",
      "3           0  46.224658       2.106849               1   \n",
      "4           0  29.230137       3.021918               1   \n",
      "\n",
      "   possui_fone_comercial  possui_fone  possui_email  qt_pessoas_residencia  \\\n",
      "0                      0            0             0                    2.0   \n",
      "1                      0            1             1                    1.0   \n",
      "2                      0            1             1                    1.0   \n",
      "3                      1            1             1                    2.0   \n",
      "4                      0            0             0                    2.0   \n",
      "\n",
      "     mau  sexo_M  ...  educacao_Secondary / secondary special  \\\n",
      "0  False       1  ...                                       1   \n",
      "1  False       0  ...                                       1   \n",
      "2  False       0  ...                                       1   \n",
      "3  False       1  ...                                       0   \n",
      "4  False       0  ...                                       0   \n",
      "\n",
      "   estado_civil_Married  estado_civil_Separated  \\\n",
      "0                     1                       0   \n",
      "1                     0                       0   \n",
      "2                     0                       0   \n",
      "3                     1                       0   \n",
      "4                     1                       0   \n",
      "\n",
      "   estado_civil_Single / not married  estado_civil_Widow  \\\n",
      "0                                  0                   0   \n",
      "1                                  1                   0   \n",
      "2                                  1                   0   \n",
      "3                                  0                   0   \n",
      "4                                  0                   0   \n",
      "\n",
      "   tipo_residencia_House / apartment  tipo_residencia_Municipal apartment  \\\n",
      "0                                  1                                    0   \n",
      "1                                  1                                    0   \n",
      "2                                  1                                    0   \n",
      "3                                  1                                    0   \n",
      "4                                  1                                    0   \n",
      "\n",
      "   tipo_residencia_Office apartment  tipo_residencia_Rented apartment  \\\n",
      "0                                 0                                 0   \n",
      "1                                 0                                 0   \n",
      "2                                 0                                 0   \n",
      "3                                 0                                 0   \n",
      "4                                 0                                 0   \n",
      "\n",
      "   tipo_residencia_With parents  \n",
      "0                             0  \n",
      "1                             0  \n",
      "2                             0  \n",
      "3                             0  \n",
      "4                             0  \n",
      "\n",
      "[5 rows x 29 columns]\n"
     ]
    }
   ],
   "source": [
    "info_variaveis = pd.DataFrame({\n",
    "    'Variavel': df.columns,\n",
    "    'Tipo de Dados': df.dtypes\n",
    "})\n",
    "\n",
    "info_variaveis['qtd_categorias'] = [df[var].nunique() for var in df.columns]\n",
    "print(info_variaveis)\n",
    "\n",
    "var_qualitativas = info_variaveis[info_variaveis['Tipo de Dados'] == 'object']['Variavel']\n",
    "\n",
    "df_dummies = pd.get_dummies(df, columns=var_qualitativas, drop_first=True)\n",
    "\n",
    "print(df_dummies.head())\n",
    "    "
   ]
  },
  {
   "cell_type": "markdown",
   "metadata": {},
   "source": [
    "#### 3) Crie variáveis dummy para as variáveis necessárias (i.e. aquelas que são qualitativas e não estão armazenadas como {0, 1} ou {True, False}. Crie um *dataframe* apenas com as variáveis apropriadas para entrada no scikitlearn - elimine as variáveis tipo *str*, mantendo apenas suas versões *dummy*."
   ]
  },
  {
   "cell_type": "code",
   "execution_count": null,
   "metadata": {},
   "outputs": [],
   "source": [
    "df_dummies = df_dummies.drop(columns=var_qualitativas)\n",
    "X = df_dummies.values"
   ]
  },
  {
   "cell_type": "markdown",
   "metadata": {},
   "source": [
    "#### 4) Qual variável é mais poderosa?\n",
    "\n",
    "Considere as variáveis ```possui_email``` e ```posse_de_veiculo```. Faça uma tabela cruzada entre elas e responda qual delas te parece mais poderosa para prever a probabilidade de ```mau = 1```?"
   ]
  },
  {
   "cell_type": "code",
   "execution_count": 22,
   "metadata": {},
   "outputs": [
    {
     "name": "stdout",
     "output_type": "stream",
     "text": [
      "Tabela Cruzada:\n",
      "mau                            False  True  Total\n",
      "possui_email posse_de_veiculo                    \n",
      "0            N                  9108   233   9341\n",
      "             Y                  5702   127   5829\n",
      "1            N                   823    14    837\n",
      "             Y                   627    16    643\n",
      "Total                          16260   390  16650\n",
      "\n",
      "Proporções Condicionais para mau = 1:\n",
      "possui_email  posse_de_veiculo\n",
      "0             N                   0.024944\n",
      "              Y                   0.021788\n",
      "1             N                   0.016726\n",
      "              Y                   0.024883\n",
      "Total                             0.023423\n",
      "dtype: float64\n"
     ]
    }
   ],
   "source": [
    "tabela_cruzada = pd.crosstab(index=[df['possui_email'], df['posse_de_veiculo']], columns=df['mau'], margins=True, margins_name='Total')\n",
    "prop_condicional = tabela_cruzada[1] / tabela_cruzada['Total']\n",
    "print(\"Tabela Cruzada:\")\n",
    "print(tabela_cruzada)\n",
    "\n",
    "print(\"\\nProporções Condicionais para mau = 1:\")\n",
    "print(prop_condicional)\n"
   ]
  },
  {
   "cell_type": "markdown",
   "metadata": {},
   "source": [
    "Acredito que seja a variavel possui_email, por ter um peso maior na soma dos resultados, quanto possui email é igual a 0 a soma das probabilidades é maior que a soma das probabilidades de posse_de_veiculo."
   ]
  },
  {
   "cell_type": "markdown",
   "metadata": {},
   "source": [
    "#### 5) Salve a base, pois ela será utilizada no final deste módulo."
   ]
  },
  {
   "cell_type": "code",
   "execution_count": 24,
   "metadata": {},
   "outputs": [],
   "source": [
    "df.to_csv('demo01', index=False)"
   ]
  },
  {
   "cell_type": "code",
   "execution_count": null,
   "metadata": {},
   "outputs": [],
   "source": []
  }
 ],
 "metadata": {
  "kernelspec": {
   "display_name": "Python 3 (ipykernel)",
   "language": "python",
   "name": "python3"
  },
  "language_info": {
   "codemirror_mode": {
    "name": "ipython",
    "version": 3
   },
   "file_extension": ".py",
   "mimetype": "text/x-python",
   "name": "python",
   "nbconvert_exporter": "python",
   "pygments_lexer": "ipython3",
   "version": "3.11.3"
  }
 },
 "nbformat": 4,
 "nbformat_minor": 4
}
